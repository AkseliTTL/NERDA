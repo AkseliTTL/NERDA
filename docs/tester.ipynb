{
 "metadata": {
  "language_info": {
   "codemirror_mode": {
    "name": "ipython",
    "version": 3
   },
   "file_extension": ".py",
   "mimetype": "text/x-python",
   "name": "python",
   "nbconvert_exporter": "python",
   "pygments_lexer": "ipython3",
   "version": "3.9.0-final"
  },
  "orig_nbformat": 2,
  "kernelspec": {
   "name": "python3",
   "display_name": "Python 3.9.0 64-bit ('3.9.0')",
   "metadata": {
    "interpreter": {
     "hash": "36071112a161297f2fd106003050184fbdff34ed057f375faa6d2f5f0cad40eb"
    }
   }
  }
 },
 "nbformat": 4,
 "nbformat_minor": 2,
 "cells": [
  {
   "source": [
    "# Workflow Example"
   ],
   "cell_type": "markdown",
   "metadata": {}
  },
  {
   "source": [
    "Download ressources including DaNE data set with annotated Named Entities"
   ],
   "cell_type": "markdown",
   "metadata": {}
  },
  {
   "cell_type": "code",
   "execution_count": null,
   "metadata": {},
   "outputs": [],
   "source": [
    "from NERDA.datasets import get_dane_data, download_dane_data\n",
    "download_dane_data()\n",
    "from NERDA.models import NERDA\n",
    "import nltk\n",
    "nltk.download('punkt');\n"
   ]
  },
  {
   "source": [
    "Instantiate `NERDA` model"
   ],
   "cell_type": "markdown",
   "metadata": {}
  },
  {
   "cell_type": "code",
   "execution_count": null,
   "metadata": {},
   "outputs": [],
   "source": [
    "model = NERDA(dataset_training = get_dane_data('train', 5),\n",
    "              dataset_validation = get_dane_data('dev', 5),\n",
    "              transformer = 'bert-base-multilingual-uncased')\n",
    "\n"
   ]
  },
  {
   "source": [
    "Train model"
   ],
   "cell_type": "markdown",
   "metadata": {}
  },
  {
   "source": [
    "model.train();"
   ],
   "cell_type": "code",
   "metadata": {},
   "execution_count": null,
   "outputs": []
  },
  {
   "source": [
    "Compute predictions"
   ],
   "cell_type": "markdown",
   "metadata": {}
  },
  {
   "cell_type": "code",
   "execution_count": null,
   "metadata": {},
   "outputs": [],
   "source": [
    "text = \"Pernille Rosenkrantz-Theil kommer fra Vejle\"\n",
    "model.predict_text(text)"
   ]
  }
 ]
}